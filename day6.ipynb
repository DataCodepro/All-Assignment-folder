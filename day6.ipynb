{
 "cells": [
  {
   "cell_type": "markdown",
   "id": "70684516",
   "metadata": {},
   "source": [
    "# FUNCTIONS"
   ]
  },
  {
   "cell_type": "code",
   "execution_count": 2,
   "id": "5ff04257",
   "metadata": {},
   "outputs": [
    {
     "name": "stdout",
     "output_type": "stream",
     "text": [
      "Welcom to python class\n"
     ]
    }
   ],
   "source": [
    "def greet():# A function without a parameter or an arguement\n",
    "    return 'Welcom to python class'\n",
    "print(greet())"
   ]
  },
  {
   "cell_type": "code",
   "execution_count": 3,
   "id": "7f79cd0c",
   "metadata": {},
   "outputs": [
    {
     "data": {
      "text/plain": [
       "'Welcom to python class'"
      ]
     },
     "execution_count": 3,
     "metadata": {},
     "output_type": "execute_result"
    }
   ],
   "source": [
    "greet()"
   ]
  },
  {
   "cell_type": "code",
   "execution_count": 4,
   "id": "08fe43e5",
   "metadata": {},
   "outputs": [
    {
     "data": {
      "text/plain": [
       "'Welcom to python class'"
      ]
     },
     "execution_count": 4,
     "metadata": {},
     "output_type": "execute_result"
    }
   ],
   "source": [
    "greet()"
   ]
  },
  {
   "cell_type": "code",
   "execution_count": 6,
   "id": "4f6bc0fc",
   "metadata": {},
   "outputs": [
    {
     "data": {
      "text/plain": [
       "'Welcom to python class Simeon'"
      ]
     },
     "execution_count": 6,
     "metadata": {},
     "output_type": "execute_result"
    }
   ],
   "source": [
    "def greet2(name):\n",
    "    return f'Welcom to python class {name}'\n",
    "greet2('Simeon')"
   ]
  },
  {
   "cell_type": "code",
   "execution_count": 7,
   "id": "473f9ade",
   "metadata": {},
   "outputs": [
    {
     "data": {
      "text/plain": [
       "'Welcom to python class Ade'"
      ]
     },
     "execution_count": 7,
     "metadata": {},
     "output_type": "execute_result"
    }
   ],
   "source": [
    "greet2('Ade')"
   ]
  },
  {
   "cell_type": "code",
   "execution_count": 9,
   "id": "b4814d37",
   "metadata": {},
   "outputs": [
    {
     "name": "stdout",
     "output_type": "stream",
     "text": [
      "NAME:Simeon\n",
      "GENDER:Male\n",
      "AGE:25\n",
      "\n",
      "Congratulations you are eligible to vote\n"
     ]
    }
   ],
   "source": [
    "def vote(name,gender, age =18):\n",
    "    print(f'''NAME:{name}\n",
    "GENDER:{gender}\n",
    "AGE:{age}\n",
    "''')\n",
    "    \n",
    "    if age >= 18:\n",
    "        print('Congratulations you are eligible to vote')\n",
    "    else:\n",
    "        print('opps sorry you are not eligible to vote')\n",
    "vote('Simeon','Male',25)"
   ]
  },
  {
   "cell_type": "code",
   "execution_count": 18,
   "id": "06084f46",
   "metadata": {},
   "outputs": [
    {
     "name": "stdout",
     "output_type": "stream",
     "text": [
      "Please provide estimate value:700000\n",
      "Please provide deposit value:550000\n",
      "Please provide first addons value:25000\n",
      "Please provide second addons value:35000\n",
      "The total accumulated for saving and addons after first year is 602500.0\n",
      "The total accumulated for saving and addons after second year is 667625.0\n",
      "The total accumulated for saving and addons after Third year is 701006.25\n",
      "There is an increase of 1006.25\n"
     ]
    }
   ],
   "source": [
    "def compoundintrest():\n",
    "    estimate = float(input('Please provide estimate value:'))\n",
    "    time = 3\n",
    "    principal = float(input('Please provide deposit value:'))\n",
    "    r = 5/100\n",
    "    firstyearadd = float(input('Please provide first addons value:'))\n",
    "    secondyearadd = float(input('Please provide second addons value:'))\n",
    "    \n",
    "    i = (principal * r )\n",
    "    totalfirstyearsaving = i +principal + firstyearadd\n",
    "    print(f'The total accumulated for saving and addons after first year is {totalfirstyearsaving}')\n",
    "    i2 = (totalfirstyearsaving * r)\n",
    "    totalsecondyearsaving = i2 +totalfirstyearsaving + secondyearadd\n",
    "    print(f'The total accumulated for saving and addons after second year is {totalsecondyearsaving}')\n",
    "    i3 = (totalsecondyearsaving * r )\n",
    "    totalthirdyearsaving = i3 +totalsecondyearsaving\n",
    "    print(f'The total accumulated for saving and addons after Third year is {totalthirdyearsaving}')\n",
    "    \n",
    "    if totalthirdyearsaving > estimate:\n",
    "        print(f'There is an increase of {totalthirdyearsaving - estimate}')\n",
    "    else:\n",
    "        print('No profit made')\n",
    "compoundintrest()\n",
    "    "
   ]
  },
  {
   "cell_type": "code",
   "execution_count": 22,
   "id": "25fbfdfb",
   "metadata": {},
   "outputs": [
    {
     "name": "stdout",
     "output_type": "stream",
     "text": [
      "Please provide your age:30\n",
      "Please enter your gender as M for male and F for Female:F\n",
      "Please enter your status as M for married and S for single:S\n",
      "Congratulations you have been posted to Lagos\n"
     ]
    }
   ],
   "source": [
    "import random\n",
    "def staffposting():\n",
    "    state  = ['Benue','Lagos','Kano','Oyo','Delta']\n",
    "    age = int(input('Please provide your age:'))\n",
    "    sex = input('Please enter your gender as M for male and F for Female:')\n",
    "    maritalstatus = input('Please enter your status as M for married and S for single:')\n",
    "    if sex == 'F' and age >=18 and age <= 40:\n",
    "        print(f'Congratulations you have been posted to {random.choice(state)}')\n",
    "    elif sex == 'M' and age >= 20 and age <= 40:\n",
    "         print(f'Congratulations you have been posted to {random.choice(state)}')\n",
    "    elif sex == 'M' and age >40 and age <=60:\n",
    "        print('congratulation you will remain at head office')\n",
    "    else:\n",
    "        print('ERROR!!!!!!!!!!!!!!!!!!!!!!')\n",
    "staffposting()"
   ]
  },
  {
   "cell_type": "code",
   "execution_count": 23,
   "id": "454c9bc9",
   "metadata": {},
   "outputs": [
    {
     "name": "stdout",
     "output_type": "stream",
     "text": [
      "Player one score is 8\n",
      "player two score is 12\n",
      "player two wins\n",
      "Player one score is 6\n",
      "player two score is 7\n",
      "player two wins\n",
      "Player one score is 7\n",
      "player two score is 7\n",
      "it is a draw\n",
      "Player one score is 10\n",
      "player two score is 7\n",
      "player one wins\n",
      "Player one score is 5\n",
      "player two score is 8\n",
      "player two wins\n",
      "Player one score is 9\n",
      "player two score is 4\n",
      "player one wins\n",
      "Player one score is 6\n",
      "player two score is 8\n",
      "player two wins\n",
      "Player one score is 10\n",
      "player two score is 9\n",
      "player one wins\n",
      "Player one score is 4\n",
      "player two score is 6\n",
      "player two wins\n",
      "Player one score is 3\n",
      "player two score is 9\n",
      "player two wins\n",
      "Player two is the overall winner by total point of 17 \n"
     ]
    }
   ],
   "source": [
    "import random as rn\n",
    "def ludo():\n",
    "    player1score = 0\n",
    "    player2score = 0\n",
    "    counter = 1\n",
    "    while counter <= 10:\n",
    "        dice1 = rn.randint(1,6) +rn.randint(1,6)\n",
    "        dice2 = rn.randint(1,6) +rn.randint(1,6)\n",
    "        if dice1 > dice2:\n",
    "            print(f'Player one score is {dice1}')\n",
    "            print(f'player two score is {dice2}')\n",
    "            print('player one wins')\n",
    "            player1score  += 5\n",
    "        elif dice2 > dice1:\n",
    "            print(f'Player one score is {dice1}')\n",
    "            print(f'player two score is {dice2}')\n",
    "            print('player two wins')\n",
    "            player2score  += 5\n",
    "        else:\n",
    "            print(f'Player one score is {dice1}')\n",
    "            print(f'player two score is {dice2}')\n",
    "            print('it is a draw')\n",
    "            player1score  += 2\n",
    "            player2score  += 2\n",
    "        counter += 1\n",
    "    if player1score > player2score:\n",
    "        print(f'Player one is the overall winner by total point of {player1score} ')\n",
    "    elif player2score > player1score:\n",
    "        print(f'Player two is the overall winner by total point of {player1score} ')\n",
    "    else:\n",
    "        print('It is a draw')\n",
    "ludo()"
   ]
  },
  {
   "cell_type": "code",
   "execution_count": null,
   "id": "5cffea7a",
   "metadata": {},
   "outputs": [],
   "source": []
  }
 ],
 "metadata": {
  "kernelspec": {
   "display_name": "Python 3 (ipykernel)",
   "language": "python",
   "name": "python3"
  },
  "language_info": {
   "codemirror_mode": {
    "name": "ipython",
    "version": 3
   },
   "file_extension": ".py",
   "mimetype": "text/x-python",
   "name": "python",
   "nbconvert_exporter": "python",
   "pygments_lexer": "ipython3",
   "version": "3.9.12"
  }
 },
 "nbformat": 4,
 "nbformat_minor": 5
}
