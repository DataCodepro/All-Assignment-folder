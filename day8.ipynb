{
 "cells": [
  {
   "cell_type": "code",
   "execution_count": 1,
   "metadata": {},
   "outputs": [],
   "source": [
    "# Class and Object\n",
    "#Class: a class is user-define blue print or prototype from which an object is created\n",
    "#Object : This is an instance of class(a copy of a class)\n",
    "#self: self is the first parameter of a class and it allow us to have  access to the attribute and method of a class\n",
    "#__init__ is a constructor and it is run as soon as an object of a class is instantiated"
   ]
  },
  {
   "cell_type": "code",
   "execution_count": 3,
   "metadata": {},
   "outputs": [
    {
     "data": {
      "text/plain": [
       "'Mammal'"
      ]
     },
     "execution_count": 3,
     "metadata": {},
     "output_type": "execute_result"
    }
   ],
   "source": [
    "class dog:\n",
    "    attr1 = 'Mammal'\n",
    "    attr2 = 'Bark'\n",
    "obj = dog()\n",
    "obj.attr1"
   ]
  },
  {
   "cell_type": "code",
   "execution_count": 4,
   "metadata": {},
   "outputs": [
    {
     "data": {
      "text/plain": [
       "'Bark'"
      ]
     },
     "execution_count": 4,
     "metadata": {},
     "output_type": "execute_result"
    }
   ],
   "source": [
    "obj.attr2"
   ]
  },
  {
   "cell_type": "code",
   "execution_count": 7,
   "metadata": {},
   "outputs": [
    {
     "name": "stdout",
     "output_type": "stream",
     "text": [
      "i can Bark\n"
     ]
    }
   ],
   "source": [
    "class dog:\n",
    "    attr1 = 'Mammal'\n",
    "    attr2 = 'Bark'\n",
    "    \n",
    "    def family(self):\n",
    "        print(f'I belong to the family of {self.attr1}')\n",
    "    def bark(self):\n",
    "        print(f'i can {self.attr2}')\n",
    "obj = dog()\n",
    "obj.bark()"
   ]
  },
  {
   "cell_type": "code",
   "execution_count": 1,
   "metadata": {},
   "outputs": [],
   "source": [
    "class carsimulation:\n",
    "    def __init__(self,Brand,Model,Color,Year,Speed):\n",
    "        self.Brand = Brand\n",
    "        self.Model = Model\n",
    "        self.Color = Color\n",
    "        self.Year = Year\n",
    "        self.Speed = Speed\n",
    "    def start(self):\n",
    "        print(f'{self.Brand} {self.Model} has started !!!!!!!!!!!!!!!!!!!!!!!!')\n",
    "    def gear(self,ch):\n",
    "        if ch == 1:\n",
    "            print('Gear placed on 1')\n",
    "        elif ch == 2:\n",
    "            print('Gear placed on 2')\n",
    "        elif ch == 3:\n",
    "            print('Gear placed on 3')\n",
    "        elif ch == 4:\n",
    "            print('Gear placed on 4')\n",
    "        elif ch == 5:\n",
    "            print('Gear placed on 5')\n",
    "        elif ch == 6:\n",
    "            print('Gear on reverse')\n",
    "    def accelerate(self):\n",
    "        option = int(input('Enter 1 to turn on nitro and 2 to turn off nitro:'))\n",
    "        if option ==1:\n",
    "            print('Nitro engaged')\n",
    "        elif option == 2:\n",
    "            print('Nitro Disengaged')\n",
    "        else:\n",
    "            print('Invalid option')\n",
    "    def stop(self):\n",
    "        print('Game over !!!!!!!!!! Car stopped')\n",
    "car1 = carsimulation('Totota','Camry','Black',2016,120)\n",
    "car2 = carsimulation('Mercedez Benz','E300','Navy Blue',2018,200)"
   ]
  },
  {
   "cell_type": "code",
   "execution_count": 3,
   "metadata": {},
   "outputs": [
    {
     "name": "stdout",
     "output_type": "stream",
     "text": [
      "Totota Camry has started !!!!!!!!!!!!!!!!!!!!!!!!\n",
      "None\n",
      "Gear placed on 4\n",
      "None\n",
      "Nitro engaged\n",
      "Invalid option\n",
      "None\n",
      "Game over !!!!!!!!!! Car stopped\n",
      "None\n"
     ]
    }
   ],
   "source": [
    "print(car1.start())\n",
    "print(car1.gear(4))\n",
    "print(car1.accelerate())\n",
    "print(car1.stop())"
   ]
  },
  {
   "cell_type": "code",
   "execution_count": null,
   "metadata": {},
   "outputs": [],
   "source": [
    "class cargame(carsimulation):\n",
    "    def openroof(self):\n",
    "        option = int(input('Enter 1 to open car roof and 2 to close car roof:'))\n",
    "        if option ==1:\n",
    "            print('Roof opened')\n",
    "        elif option == 2:\n",
    "            print('Roof closed')\n",
    "        else:\n",
    "            print('Invalid option')\n",
    "car3 = cargame('Mercedez Benz','E450','Navy Blue',2021,300)\n",
    "print(car3.start())\n",
    "print(car3.gear(4))\n",
    "print(car3.accelerate())\n",
    "print(car3.stop())\n",
    "print(car3.openroof())"
   ]
  }
 ],
 "metadata": {
  "kernelspec": {
   "display_name": "Python 3.9.12 ('base')",
   "language": "python",
   "name": "python3"
  },
  "language_info": {
   "codemirror_mode": {
    "name": "ipython",
    "version": 3
   },
   "file_extension": ".py",
   "mimetype": "text/x-python",
   "name": "python",
   "nbconvert_exporter": "python",
   "pygments_lexer": "ipython3",
   "version": "3.9.12"
  },
  "orig_nbformat": 4,
  "vscode": {
   "interpreter": {
    "hash": "7c5b4b5f72701d0da4703e0631ab80e1a1879b4a1224ff4bb856e690b4256287"
   }
  }
 },
 "nbformat": 4,
 "nbformat_minor": 2
}
