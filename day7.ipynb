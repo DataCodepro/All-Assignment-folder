{
 "cells": [
  {
   "cell_type": "markdown",
   "id": "c1445a7c",
   "metadata": {},
   "source": [
    "# Fuction continue"
   ]
  },
  {
   "cell_type": "code",
   "execution_count": 1,
   "id": "b607c298",
   "metadata": {},
   "outputs": [
    {
     "name": "stdout",
     "output_type": "stream",
     "text": [
      "<class 'tuple'>\n",
      "34.75\n"
     ]
    }
   ],
   "source": [
    "import statistics as stat\n",
    "def average(*args):# function to accept variable length of non keyword arguement\n",
    "    print(type(args))\n",
    "    print(stat.mean(args))\n",
    "average(10,45,52,32)"
   ]
  },
  {
   "cell_type": "code",
   "execution_count": 2,
   "id": "9caf7a1d",
   "metadata": {},
   "outputs": [
    {
     "name": "stdout",
     "output_type": "stream",
     "text": [
      "<class 'tuple'>\n",
      "81.0909090909091\n"
     ]
    }
   ],
   "source": [
    "numbers = [78,54,98,63,58,96,58,96,95,98,98]# Tuple unpacking\n",
    "average(*numbers)"
   ]
  },
  {
   "cell_type": "code",
   "execution_count": 3,
   "id": "368715f3",
   "metadata": {},
   "outputs": [
    {
     "name": "stdout",
     "output_type": "stream",
     "text": [
      "<class 'dict'>\n",
      "Name : Simeon\n",
      "Age : 25\n",
      "Gender : Male\n"
     ]
    }
   ],
   "source": [
    "def records(**kwargs):\n",
    "    print(type(kwargs))\n",
    "    for keys, values in kwargs.items():\n",
    "        print(keys, ':', values)\n",
    "records(Name='Simeon',Age= 25, Gender = 'Male')"
   ]
  },
  {
   "cell_type": "markdown",
   "id": "845e102a",
   "metadata": {},
   "source": [
    "# Exercise\n",
    "# Define a function to hold records of seven people with the following information\n",
    "# Name, Age, Gender, State, LGA, Fav SPort and display the output"
   ]
  },
  {
   "cell_type": "code",
   "execution_count": 4,
   "id": "ccfeb51a",
   "metadata": {},
   "outputs": [
    {
     "name": "stdout",
     "output_type": "stream",
     "text": [
      "<class 'dict'>\n",
      "Name : ['Simeon', 'Ade', 'Jane', 'Hope', 'Samuel', 'Page', 'Akin']\n",
      "Age : [25, 30, 21, 25, 24, 26, 24]\n",
      "Gender : ['Male', 'Male', 'Female', 'Female', 'Male', 'Female', 'Male']\n",
      "State : ['FCT', 'Oyo', 'Lagos', 'Kwara', 'Kaduna', 'Osun', 'Akwaibom']\n",
      "Lga : ['Bwari', 'Ido', 'Oshodi', 'Ilorin', 'Ape', 'Ilesha', 'Okobo']\n",
      "FAVSPORT : ['Soccer', 'Golf', 'Golf', 'Swimming', 'Soccer', 'Basketball', 'Golf']\n"
     ]
    }
   ],
   "source": [
    "def records(**kwargs):\n",
    "    print(type(kwargs))\n",
    "    for keys, values in kwargs.items():\n",
    "        print(keys, ':', values)\n",
    "records(Name=['Simeon','Ade','Jane','Hope','Samuel','Page','Akin'],Age= [25,30,21,25,24,26,24], \n",
    "        Gender = ['Male','Male','Female','Female','Male','Female','Male'],State=['FCT','Oyo','Lagos','Kwara','Kaduna','Osun','Akwaibom'],\n",
    "       Lga=['Bwari','Ido','Oshodi','Ilorin','Ape','Ilesha','Okobo'],FAVSPORT=['Soccer','Golf','Golf','Swimming','Soccer','Basketball','Golf'])"
   ]
  },
  {
   "cell_type": "markdown",
   "id": "fe544148",
   "metadata": {},
   "source": [
    "# LAMBDA FUNCTION"
   ]
  },
  {
   "cell_type": "code",
   "execution_count": 6,
   "id": "7f2ebcdc",
   "metadata": {},
   "outputs": [
    {
     "name": "stdout",
     "output_type": "stream",
     "text": [
      "Please provide a number:20\n"
     ]
    },
    {
     "data": {
      "text/plain": [
       "400"
      ]
     },
     "execution_count": 6,
     "metadata": {},
     "output_type": "execute_result"
    }
   ],
   "source": [
    "(lambda x: x * x)(int(input('Please provide a number:')))"
   ]
  },
  {
   "cell_type": "code",
   "execution_count": 7,
   "id": "469da420",
   "metadata": {},
   "outputs": [
    {
     "name": "stdout",
     "output_type": "stream",
     "text": [
      "Please provide a number:45\n",
      "Please provide a number:12\n"
     ]
    },
    {
     "data": {
      "text/plain": [
       "540"
      ]
     },
     "execution_count": 7,
     "metadata": {},
     "output_type": "execute_result"
    }
   ],
   "source": [
    "(lambda x,y: x * y)(int(input('Please provide a number:')),int(input('Please provide a number:')))"
   ]
  },
  {
   "cell_type": "code",
   "execution_count": 10,
   "id": "95519904",
   "metadata": {},
   "outputs": [
    {
     "name": "stdout",
     "output_type": "stream",
     "text": [
      "Please provide your password:Seyilaw12367\n",
      "Login successful\n"
     ]
    }
   ],
   "source": [
    "# Write a lambda function to check if a password start with an uppercase letter\n",
    "password = input('Please provide your password:')\n",
    "if password[0] == password[0].upper():\n",
    "    print('Login successful')\n",
    "else:\n",
    "    print('Invalid Password')"
   ]
  },
  {
   "cell_type": "code",
   "execution_count": 11,
   "id": "db275bfc",
   "metadata": {},
   "outputs": [
    {
     "name": "stdout",
     "output_type": "stream",
     "text": [
      "Please provide your password:Seyilaw23\n"
     ]
    },
    {
     "data": {
      "text/plain": [
       "'Login successful'"
      ]
     },
     "execution_count": 11,
     "metadata": {},
     "output_type": "execute_result"
    }
   ],
   "source": [
    "(lambda password:'Login successful' if password[0] == password[0].upper() else 'Invalid Password' )(input('Please provide your password:'))"
   ]
  },
  {
   "cell_type": "code",
   "execution_count": 13,
   "id": "3cea354d",
   "metadata": {},
   "outputs": [
    {
     "name": "stdout",
     "output_type": "stream",
     "text": [
      "Please provide your password:Seyilaw4\n"
     ]
    },
    {
     "data": {
      "text/plain": [
       "'Invalid Password'"
      ]
     },
     "execution_count": 13,
     "metadata": {},
     "output_type": "execute_result"
    }
   ],
   "source": [
    "(lambda password:'Login successful' if password[0] == password[0].upper() and len(password) == 8 and password[-1] == '0' or password[-1] == '1'  or password[-1] == '2'else 'Invalid Password' )(input('Please provide your password:'))"
   ]
  },
  {
   "cell_type": "markdown",
   "id": "6375f41e",
   "metadata": {},
   "source": [
    "# map is used for modification of string, list and tuple\n",
    "# filter is used for selecting values in string, list and tuple"
   ]
  },
  {
   "cell_type": "code",
   "execution_count": 18,
   "id": "a3debbd6",
   "metadata": {},
   "outputs": [
    {
     "data": {
      "text/plain": [
       "['SIMEON', 'ADE', 'JANE', 'HOPE', 'SAMUEL', 'PAGE', 'AKIN']"
      ]
     },
     "execution_count": 18,
     "metadata": {},
     "output_type": "execute_result"
    }
   ],
   "source": [
    "Name=['Simeon','Ade','Jane','Hope','Samuel','Page','Akin']\n",
    "\n",
    "update_names = list(map(lambda x: str.upper(x),Name))\n",
    "update_names"
   ]
  },
  {
   "cell_type": "code",
   "execution_count": 19,
   "id": "817864df",
   "metadata": {},
   "outputs": [],
   "source": [
    "import random as rn\n",
    "outcome = []\n",
    "counter = 1 \n",
    "while counter <= 50:\n",
    "    num = rn.randint(15,50)\n",
    "    outcome.append(num)\n",
    "    counter = counter + 1"
   ]
  },
  {
   "cell_type": "code",
   "execution_count": 20,
   "id": "b8e0f409",
   "metadata": {},
   "outputs": [
    {
     "name": "stdout",
     "output_type": "stream",
     "text": [
      "[20, 18, 28, 23, 37, 21, 50, 26, 36, 19, 45, 29, 25, 47, 45, 39, 26, 31, 20, 49, 31, 50, 17, 50, 41, 46, 41, 35, 20, 18, 31, 44, 41, 18, 31, 15, 46, 16, 47, 25, 21, 36, 39, 24, 16, 35, 17, 15, 21, 26]\n"
     ]
    }
   ],
   "source": [
    "print(outcome)"
   ]
  },
  {
   "cell_type": "code",
   "execution_count": 23,
   "id": "3afe0782",
   "metadata": {},
   "outputs": [
    {
     "name": "stdout",
     "output_type": "stream",
     "text": [
      "[4.47213595499958, 4.242640687119285, 5.291502622129181, 4.795831523312719, 6.082762530298219, 4.58257569495584, 7.0710678118654755, 5.0990195135927845, 6.0, 4.358898943540674, 6.708203932499369, 5.385164807134504, 5.0, 6.855654600401044, 6.708203932499369, 6.244997998398398, 5.0990195135927845, 5.5677643628300215, 4.47213595499958, 7.0, 5.5677643628300215, 7.0710678118654755, 4.123105625617661, 7.0710678118654755, 6.4031242374328485, 6.782329983125268, 6.4031242374328485, 5.916079783099616, 4.47213595499958, 4.242640687119285, 5.5677643628300215, 6.6332495807108, 6.4031242374328485, 4.242640687119285, 5.5677643628300215, 3.872983346207417, 6.782329983125268, 4.0, 6.855654600401044, 5.0, 4.58257569495584, 6.0, 6.244997998398398, 4.898979485566356, 4.0, 5.916079783099616, 4.123105625617661, 3.872983346207417, 4.58257569495584, 5.0990195135927845]\n"
     ]
    }
   ],
   "source": [
    "import math\n",
    "outcom_sqrt =list(map(lambda x: math.sqrt(x),outcome))\n",
    "print(outcom_sqrt)"
   ]
  },
  {
   "cell_type": "code",
   "execution_count": 22,
   "id": "29df0f39",
   "metadata": {},
   "outputs": [
    {
     "name": "stdout",
     "output_type": "stream",
     "text": [
      "[28, 23, 37, 21, 50, 26, 36, 45, 29, 25, 47, 45, 39, 26, 31, 49, 31, 50, 50, 41, 46, 41, 35, 31, 44, 41, 31, 46, 47, 25, 21, 36, 39, 24, 35, 21, 26]\n"
     ]
    }
   ],
   "source": [
    "outcom_selection =list(filter(lambda x: x > 20,outcome))\n",
    "print(outcom_selection)"
   ]
  },
  {
   "cell_type": "code",
   "execution_count": null,
   "id": "bf9aa4cd",
   "metadata": {},
   "outputs": [],
   "source": []
  }
 ],
 "metadata": {
  "kernelspec": {
   "display_name": "Python 3 (ipykernel)",
   "language": "python",
   "name": "python3"
  },
  "language_info": {
   "codemirror_mode": {
    "name": "ipython",
    "version": 3
   },
   "file_extension": ".py",
   "mimetype": "text/x-python",
   "name": "python",
   "nbconvert_exporter": "python",
   "pygments_lexer": "ipython3",
   "version": "3.9.12"
  }
 },
 "nbformat": 4,
 "nbformat_minor": 5
}
