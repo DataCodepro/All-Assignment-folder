{
 "cells": [
  {
   "cell_type": "code",
   "execution_count": 1,
   "metadata": {},
   "outputs": [
    {
     "name": "stdout",
     "output_type": "stream",
     "text": [
      "ppp\n",
      "yyy\n",
      "ttt\n",
      "hhh\n",
      "ooo\n",
      "nnn\n"
     ]
    }
   ],
   "source": [
    "word = 'python'\n",
    "for char in word:\n",
    "    print(char * 3)"
   ]
  },
  {
   "cell_type": "code",
   "execution_count": 5,
   "metadata": {},
   "outputs": [
    {
     "name": "stdout",
     "output_type": "stream",
     "text": [
      "pppyyyttthhhooonnn\n",
      "\n",
      "pythonpythonpython\n"
     ]
    }
   ],
   "source": [
    "word = 'python'\n",
    "for char in word:\n",
    "    print(char * 3, end= '')\n",
    "print('\\n')\n",
    "print(word *3)"
   ]
  },
  {
   "cell_type": "code",
   "execution_count": 6,
   "metadata": {},
   "outputs": [
    {
     "name": "stdout",
     "output_type": "stream",
     "text": [
      "Hey Hope, this is to remind you of our slated to hold 15th of Auguust 2022 by 4pm prompt\n",
      "Hey James, this is to remind you of our slated to hold 15th of Auguust 2022 by 4pm prompt\n",
      "Hey Obi, this is to remind you of our slated to hold 15th of Auguust 2022 by 4pm prompt\n",
      "Hey Faith, this is to remind you of our slated to hold 15th of Auguust 2022 by 4pm prompt\n",
      "Hey Adams, this is to remind you of our slated to hold 15th of Auguust 2022 by 4pm prompt\n"
     ]
    }
   ],
   "source": [
    "friends = ['Hope','James','Obi','Faith','Adams']\n",
    "for name in friends:\n",
    "    print(f'Hey {name}, this is to remind you of our slated to hold 15th of Auguust 2022 by 4pm prompt')"
   ]
  },
  {
   "cell_type": "code",
   "execution_count": 8,
   "metadata": {},
   "outputs": [
    {
     "name": "stdout",
     "output_type": "stream",
     "text": [
      "Hey Hope, this is to remind you of our slated to hold 15th of Auguust 2022 by 4pm prompt\n",
      "Hey James, this is to remind you of our slated to hold 15th of Auguust 2022 by 4pm prompt\n",
      "Hey Obi, this is to remind you of our slated to hold 15th of Auguust 2022 by 4pm prompt\n",
      "Hey Faith, this is to remind you of our slated to hold 15th of Auguust 2022 by 4pm prompt\n",
      "Hey Adams, this is to remind you of our slated to hold 15th of Auguust 2022 by 4pm prompt\n"
     ]
    }
   ],
   "source": [
    "friends = ['Hope','James','Obi','Faith','Adams']\n",
    "for name in friends:\n",
    "        print(f'Hey {name}, this is to remind you of our slated to hold 15th of Auguust 2022 by 4pm prompt')"
   ]
  },
  {
   "cell_type": "code",
   "execution_count": 14,
   "metadata": {},
   "outputs": [],
   "source": [
    "records = {\n",
    "    'Name1':'Hope',\n",
    "    'Name2':'James',\n",
    "    'Name3':'Obi',\n",
    "    'Name4':'Faith',\n",
    "    'Name5':'Adams'\n",
    "}\n",
    "name = input('Provide First name:')\n",
    "for key in records:\n",
    "    if name == key:\n",
    "        print(f'Hey {name}, this is to remind you of our slated to hold 15th of Auguust 2022 by 4pm prompt')\n",
    "         "
   ]
  },
  {
   "cell_type": "code",
   "execution_count": 42,
   "metadata": {},
   "outputs": [
    {
     "name": "stdout",
     "output_type": "stream",
     "text": [
      "Record not found\n"
     ]
    }
   ],
   "source": [
    "details = {\n",
    "    'Hope':90,\n",
    "    'James':85,\n",
    "    'Obi':100,\n",
    "    'Faith':75,\n",
    "    'Adams':80\n",
    "}\n",
    "name = input('Provide First name:')\n",
    "for key in details:\n",
    "    if key == name:\n",
    "        print(f'Congratulations {key} your score is {details[key]}')\n",
    "        break\n",
    "else:\n",
    "    print('Record not found')"
   ]
  },
  {
   "cell_type": "code",
   "execution_count": 43,
   "metadata": {},
   "outputs": [
    {
     "name": "stdout",
     "output_type": "stream",
     "text": [
      "Congratulations Hope your score is 90\n",
      "Record not found\n"
     ]
    }
   ],
   "source": [
    "details = {\n",
    "    'Hope':90,\n",
    "    'James':85,\n",
    "    'Obi':100,\n",
    "    'Faith':75,\n",
    "    'Adams':80\n",
    "}\n",
    "name = input('Provide First name:')\n",
    "for key in details:\n",
    "    if key == name:\n",
    "        print(f'Congratulations {key} your score is {details[key]}')\n",
    "        continue\n",
    "else:\n",
    "    print('Record not found')"
   ]
  },
  {
   "cell_type": "code",
   "execution_count": 44,
   "metadata": {},
   "outputs": [
    {
     "name": "stdout",
     "output_type": "stream",
     "text": [
      "The sqrt of 25 is 5.0\n",
      "The sqrt of 85 is 9.219544457292887\n",
      "The sqrt of 75 is 8.660254037844387\n"
     ]
    }
   ],
   "source": [
    "import math\n",
    "num = int(input('Please provide your number'))\n",
    "counter = 1\n",
    "while num != 0:\n",
    "    print(f'The sqrt of {num} is {math.sqrt(num)}')\n",
    "    num = int(input('Please provide your number'))\n",
    "    counter = counter + 1\n",
    "    "
   ]
  },
  {
   "cell_type": "code",
   "execution_count": 45,
   "metadata": {},
   "outputs": [],
   "source": [
    "import random as rn\n",
    "numbers = []\n",
    "counter = 1\n",
    "while counter <= 100:\n",
    "    num = rn.randint(10,45)\n",
    "    numbers.append(num)\n",
    "    counter += 1\n",
    "    "
   ]
  },
  {
   "cell_type": "code",
   "execution_count": 48,
   "metadata": {},
   "outputs": [
    {
     "name": "stdout",
     "output_type": "stream",
     "text": [
      "100\n"
     ]
    }
   ],
   "source": [
    "print(len(numbers))"
   ]
  },
  {
   "cell_type": "code",
   "execution_count": 52,
   "metadata": {},
   "outputs": [
    {
     "data": {
      "text/plain": [
       "11"
      ]
     },
     "execution_count": 52,
     "metadata": {},
     "output_type": "execute_result"
    }
   ],
   "source": [
    "rn.randint(1,6) + rn.randint(1,6)\n",
    "player1score = 0\n",
    "player2score = 0\n",
    "for i in range(1,11):\n",
    "    dice1 = rn.randint(1,6) +rn.randint(1,6)\n",
    "    dice2 = rn.randint(1,6) +rn.randint(1,6)\n",
    "    if dice1 > dice2:\n",
    "        print(f'Player one score is {dice1}')\n",
    "        print(f'player two score is {dice2}')\n",
    "        print('player one wins')\n",
    "        player1score  += 5\n",
    "    elif dice2 > dice1:\n",
    "        print(f'Player one score is {dice1}')\n",
    "        print(f'player two score is {dice2}')\n",
    "        print('player two wins')\n",
    "        player2score  += 5\n",
    "    else:\n",
    "        print(f'Player one score is {dice1}')\n",
    "        print(f'player two score is {dice2}')\n",
    "        print('it is a draw')\n",
    "        player1score  += 2\n",
    "        player2score  += 2\n",
    "if player1score > player2score:\n",
    "    print(f'Player one is the overall winner by total point of {player1score} ')\n",
    "elif player2score > player1score:\n",
    "    print(f'Player two is the overall winner by total point of {player1score} ')\n",
    "else:\n",
    "    print('It is a draw')"
   ]
  },
  {
   "cell_type": "code",
   "execution_count": null,
   "metadata": {},
   "outputs": [],
   "source": []
  }
 ],
 "metadata": {
  "kernelspec": {
   "display_name": "Python 3 (ipykernel)",
   "language": "python",
   "name": "python3"
  },
  "language_info": {
   "codemirror_mode": {
    "name": "ipython",
    "version": 3
   },
   "file_extension": ".py",
   "mimetype": "text/x-python",
   "name": "python",
   "nbconvert_exporter": "python",
   "pygments_lexer": "ipython3",
   "version": "3.10.4"
  },
  "vscode": {
   "interpreter": {
    "hash": "97a318a1c10ea3cad32b5f740e8bef65bce9a717407c951d39899fa160feabd9"
   }
  }
 },
 "nbformat": 4,
 "nbformat_minor": 2
}
