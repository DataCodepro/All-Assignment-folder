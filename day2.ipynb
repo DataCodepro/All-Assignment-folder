{
 "cells": [
  {
   "cell_type": "code",
   "execution_count": 1,
   "id": "e82c9c90",
   "metadata": {},
   "outputs": [
    {
     "name": "stdout",
     "output_type": "stream",
     "text": [
      "PYTHON\n",
      "python\n",
      "Python Is Fun\n",
      "Python is fun\n",
      "info\n"
     ]
    }
   ],
   "source": [
    "word = 'python'\n",
    "word2 = 'PYTHON'\n",
    "word3 = 'python is fun'\n",
    "word4 = '   info'\n",
    "\n",
    "print(word.upper())\n",
    "print(word2.lower())\n",
    "print(word3.title())\n",
    "print(word3.capitalize())\n",
    "print(word4.strip())"
   ]
  },
  {
   "cell_type": "code",
   "execution_count": 4,
   "id": "9ed0d4aa",
   "metadata": {},
   "outputs": [
    {
     "name": "stdout",
     "output_type": "stream",
     "text": [
      "15\n"
     ]
    }
   ],
   "source": [
    "# int and float can be converted to string and vice versa\n",
    "#string cannot be converted to int or float except it is a number that is passed in that string\n",
    "number1 = int(15.65)\n",
    "print(number1)"
   ]
  },
  {
   "cell_type": "code",
   "execution_count": 5,
   "id": "fc1cc3f8",
   "metadata": {},
   "outputs": [
    {
     "name": "stdout",
     "output_type": "stream",
     "text": [
      "15.0\n"
     ]
    }
   ],
   "source": [
    "number2 = 15\n",
    "print(float(number2))"
   ]
  },
  {
   "cell_type": "code",
   "execution_count": 2,
   "id": "e6a2360e",
   "metadata": {},
   "outputs": [
    {
     "name": "stdout",
     "output_type": "stream",
     "text": [
      "123.0\n"
     ]
    }
   ],
   "source": [
    "password = '123'\n",
    "print(float(password))"
   ]
  },
  {
   "cell_type": "code",
   "execution_count": 4,
   "id": "a544b49b",
   "metadata": {},
   "outputs": [],
   "source": [
    "#input function is used to prompt a user for an input value to be assigned to a variable\n",
    "name = input('Please enter your name')"
   ]
  },
  {
   "cell_type": "code",
   "execution_count": 6,
   "id": "d6a9b598",
   "metadata": {},
   "outputs": [],
   "source": [
    "age = float(input('Please provide your age:'))"
   ]
  },
  {
   "cell_type": "markdown",
   "id": "311341ea",
   "metadata": {},
   "source": [
    "# ARITHMETIC OPERATORS"
   ]
  },
  {
   "cell_type": "code",
   "execution_count": 18,
   "id": "0cf93e06",
   "metadata": {},
   "outputs": [
    {
     "name": "stdout",
     "output_type": "stream",
     "text": [
      "40 + 20 = 60\n",
      "40 - 20 = 20\n",
      "40 x 20 = 800\n",
      "40 / 20 = 2.0\n",
      "40 % 20 = 0\n",
      "40 // 20 = 2\n",
      "40 ** 20 = 109951162777600000000000000000000\n"
     ]
    }
   ],
   "source": [
    "num1 = 40\n",
    "num2 = 20\n",
    "print(f'{num1} + {num2} = {num1 + num2}')\n",
    "print(f'{num1} - {num2} = {num1 - num2}')\n",
    "print(f'{num1} * {num2} = {num1 * num2}')\n",
    "print(f'{num1} / {num2} = {num1 / num2}')\n",
    "print(f'{num1} % {num2} = {num1 % num2}')\n",
    "print(f'{num1} // {num2} = {num1 // num2}')\n",
    "print(f'{num1} ** {num2} = {num1 ** num2}')"
   ]
  },
  {
   "cell_type": "markdown",
   "id": "dc449f19",
   "metadata": {},
   "source": [
    "# COMPAIRISM OPERATORS"
   ]
  },
  {
   "cell_type": "code",
   "execution_count": 19,
   "id": "0baadf0c",
   "metadata": {},
   "outputs": [
    {
     "name": "stdout",
     "output_type": "stream",
     "text": [
      "40 > 20 = True\n",
      "40 < 20 = False\n",
      "40 >= 20 = True\n",
      "40 <= 20 = False\n",
      "40 == 20 = False\n",
      "40 != 20 = True\n"
     ]
    }
   ],
   "source": [
    "print(f'{num1} > {num2} = {num1 > num2}')\n",
    "print(f'{num1} < {num2} = {num1 < num2}')\n",
    "print(f'{num1} >= {num2} = {num1 >= num2}')\n",
    "print(f'{num1} <= {num2} = {num1 <= num2}')\n",
    "print(f'{num1} == {num2} = {num1 == num2}')\n",
    "print(f'{num1} != {num2} = {num1 != num2}')"
   ]
  },
  {
   "cell_type": "markdown",
   "id": "7048e3f6",
   "metadata": {},
   "source": [
    "# LOGICAL OPERATORS"
   ]
  },
  {
   "cell_type": "code",
   "execution_count": 21,
   "id": "5a4f4957",
   "metadata": {},
   "outputs": [
    {
     "name": "stdout",
     "output_type": "stream",
     "text": [
      "False\n",
      "True\n",
      "False\n"
     ]
    }
   ],
   "source": [
    "print(num1 > num2 and num2 == num1)\n",
    "print(num1 > num2 or num2 == num1)\n",
    "print(not num1)"
   ]
  },
  {
   "cell_type": "markdown",
   "id": "b3d01052",
   "metadata": {},
   "source": []
  }
 ],
 "metadata": {
  "kernelspec": {
   "display_name": "Python 3.10.4 64-bit",
   "language": "python",
   "name": "python3"
  },
  "language_info": {
   "codemirror_mode": {
    "name": "ipython",
    "version": 3
   },
   "file_extension": ".py",
   "mimetype": "text/x-python",
   "name": "python",
   "nbconvert_exporter": "python",
   "pygments_lexer": "ipython3",
   "version": "3.10.4"
  },
  "vscode": {
   "interpreter": {
    "hash": "97a318a1c10ea3cad32b5f740e8bef65bce9a717407c951d39899fa160feabd9"
   }
  }
 },
 "nbformat": 4,
 "nbformat_minor": 5
}
