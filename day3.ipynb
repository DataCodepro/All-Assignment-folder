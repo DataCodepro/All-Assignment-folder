{
 "cells": [
  {
   "cell_type": "markdown",
   "metadata": {},
   "source": [
    "# tuple\n",
    "# Tuple is unchangeable \n",
    "# Tuble Must be ordered\n",
    "# Tuple is denoted with ( )\n",
    "# to access a value from a tuple we used the index location"
   ]
  },
  {
   "cell_type": "code",
   "execution_count": 1,
   "metadata": {},
   "outputs": [
    {
     "name": "stdout",
     "output_type": "stream",
     "text": [
      "<class 'tuple'>\n"
     ]
    }
   ],
   "source": [
    "numbers = (4,10,15,16,25,20,4,30,35,4,45,56,50,52,4,60)\n",
    "print(type(numbers))"
   ]
  },
  {
   "cell_type": "code",
   "execution_count": 2,
   "metadata": {},
   "outputs": [
    {
     "name": "stdout",
     "output_type": "stream",
     "text": [
      "16\n"
     ]
    }
   ],
   "source": [
    "print(len(numbers))"
   ]
  },
  {
   "cell_type": "code",
   "execution_count": 6,
   "metadata": {},
   "outputs": [
    {
     "name": "stdout",
     "output_type": "stream",
     "text": [
      "20\n"
     ]
    }
   ],
   "source": [
    "print(numbers[5])"
   ]
  },
  {
   "cell_type": "code",
   "execution_count": 7,
   "metadata": {},
   "outputs": [
    {
     "name": "stdout",
     "output_type": "stream",
     "text": [
      "20\n"
     ]
    }
   ],
   "source": [
    "print(numbers[-11])"
   ]
  },
  {
   "cell_type": "code",
   "execution_count": 10,
   "metadata": {},
   "outputs": [
    {
     "name": "stdout",
     "output_type": "stream",
     "text": [
      "(16, 25, 20, 4, 30, 35)\n"
     ]
    }
   ],
   "source": [
    "print(numbers[3:9])"
   ]
  },
  {
   "cell_type": "code",
   "execution_count": 11,
   "metadata": {},
   "outputs": [
    {
     "name": "stdout",
     "output_type": "stream",
     "text": [
      "4\n"
     ]
    }
   ],
   "source": [
    "print(numbers.count(4))"
   ]
  },
  {
   "cell_type": "code",
   "execution_count": 12,
   "metadata": {},
   "outputs": [
    {
     "name": "stdout",
     "output_type": "stream",
     "text": [
      "15\n"
     ]
    }
   ],
   "source": [
    "print(numbers.index(60))"
   ]
  },
  {
   "cell_type": "code",
   "execution_count": 13,
   "metadata": {},
   "outputs": [
    {
     "name": "stdout",
     "output_type": "stream",
     "text": [
      "True\n"
     ]
    }
   ],
   "source": [
    "print(60 in numbers)"
   ]
  },
  {
   "cell_type": "markdown",
   "metadata": {},
   "source": [
    "# List\n",
    "# List is changeable \n",
    "# List can be  ordered or unorded\n",
    "# List is denoted with [ ]\n",
    "# to access a value from a List we used the index location"
   ]
  },
  {
   "cell_type": "code",
   "execution_count": 16,
   "metadata": {},
   "outputs": [
    {
     "name": "stdout",
     "output_type": "stream",
     "text": [
      "['Apple', 'Cherry', 'Mango', 'Banana', 'Orange', 'Pear']\n"
     ]
    }
   ],
   "source": [
    "fruits = ['Apple','Cherry','Mango','Banana','Orange']\n",
    "fruits.append('Pear')# The append fuction will add new value at the end of the existing list\n",
    "print(fruits)"
   ]
  },
  {
   "cell_type": "code",
   "execution_count": 17,
   "metadata": {},
   "outputs": [
    {
     "name": "stdout",
     "output_type": "stream",
     "text": [
      "['Apple', 'Cherry', 'Mango', 'Banana', 'Orange', 'Pear', 'Coconut', 'Apple', 'Rasberry', 'Lemon', 'SugarCane']\n"
     ]
    }
   ],
   "source": [
    "second_fruit = ['Coconut','Apple','Rasberry','Lemon','SugarCane']\n",
    "fruits.extend(second_fruit)# The extend function will add the value of another list or tuple to the specified list\n",
    "print(fruits)"
   ]
  },
  {
   "cell_type": "code",
   "execution_count": 18,
   "metadata": {},
   "outputs": [
    {
     "name": "stdout",
     "output_type": "stream",
     "text": [
      "['Apple', 'Cherry', 'Mango', 'Banana', 'Orange', 'Grape', 'Pear', 'Coconut', 'Apple', 'Rasberry', 'Lemon', 'SugarCane']\n"
     ]
    }
   ],
   "source": [
    "fruits.insert(5,'Grape')# The insert function will add the new value at the specified location\n",
    "print(fruits)"
   ]
  },
  {
   "cell_type": "code",
   "execution_count": 19,
   "metadata": {},
   "outputs": [
    {
     "name": "stdout",
     "output_type": "stream",
     "text": [
      "['Apple', 'Apple', 'Banana', 'Cherry', 'Coconut', 'Grape', 'Lemon', 'Mango', 'Orange', 'Pear', 'Rasberry', 'SugarCane']\n"
     ]
    }
   ],
   "source": [
    "fruits.sort() # The sort function will arrange the values in ascending order\n",
    "print(fruits)"
   ]
  },
  {
   "cell_type": "code",
   "execution_count": 20,
   "metadata": {},
   "outputs": [
    {
     "name": "stdout",
     "output_type": "stream",
     "text": [
      "['Apple', 'Apple', 'Banana', 'Cherry', 'Coconut', 'Grape', 'Mango', 'Orange', 'Pear', 'Rasberry', 'SugarCane']\n"
     ]
    }
   ],
   "source": [
    "fruits.pop(6)# The pop function will drop the value at the specified location\n",
    "print(fruits)"
   ]
  },
  {
   "cell_type": "code",
   "execution_count": 21,
   "metadata": {},
   "outputs": [
    {
     "name": "stdout",
     "output_type": "stream",
     "text": [
      "['Apple', 'Apple', 'Banana', 'Cherry', 'Coconut', 'Mango', 'Orange', 'Pear', 'Rasberry', 'SugarCane']\n"
     ]
    }
   ],
   "source": [
    "fruits.remove('Grape')# The remove function will drop the specified value\n",
    "print(fruits)"
   ]
  },
  {
   "cell_type": "code",
   "execution_count": 22,
   "metadata": {},
   "outputs": [
    {
     "name": "stdout",
     "output_type": "stream",
     "text": [
      "['SugarCane', 'Rasberry', 'Pear', 'Orange', 'Mango', 'Coconut', 'Cherry', 'Banana', 'Apple', 'Apple']\n"
     ]
    }
   ],
   "source": [
    "fruits.reverse()# The reverse will arrange your values in decsending order\n",
    "print(fruits)"
   ]
  },
  {
   "cell_type": "code",
   "execution_count": 23,
   "metadata": {},
   "outputs": [],
   "source": [
    "fruits2 = fruits.copy()# The copy function will make a duplicate of your list"
   ]
  },
  {
   "cell_type": "code",
   "execution_count": 24,
   "metadata": {},
   "outputs": [
    {
     "name": "stdout",
     "output_type": "stream",
     "text": [
      "[]\n"
     ]
    }
   ],
   "source": [
    "fruits2.clear()# The clear function will remove all values from the list\n",
    "print(fruits2)"
   ]
  },
  {
   "cell_type": "code",
   "execution_count": 25,
   "metadata": {},
   "outputs": [
    {
     "ename": "NameError",
     "evalue": "name 'fruits2' is not defined",
     "output_type": "error",
     "traceback": [
      "\u001b[1;31m---------------------------------------------------------------------------\u001b[0m",
      "\u001b[1;31mNameError\u001b[0m                                 Traceback (most recent call last)",
      "\u001b[1;32mc:\\Users\\Simeon\\Documents\\pythonprogramm\\pythonclass0730\\day3.ipynb Cell 20\u001b[0m in \u001b[0;36m<cell line: 2>\u001b[1;34m()\u001b[0m\n\u001b[0;32m      <a href='vscode-notebook-cell:/c%3A/Users/Simeon/Documents/pythonprogramm/pythonclass0730/day3.ipynb#ch0000023?line=0'>1</a>\u001b[0m \u001b[39mdel\u001b[39;00m(fruits2)\n\u001b[1;32m----> <a href='vscode-notebook-cell:/c%3A/Users/Simeon/Documents/pythonprogramm/pythonclass0730/day3.ipynb#ch0000023?line=1'>2</a>\u001b[0m \u001b[39mprint\u001b[39m(fruits2)\n",
      "\u001b[1;31mNameError\u001b[0m: name 'fruits2' is not defined"
     ]
    }
   ],
   "source": [
    "del(fruits2)\n",
    "print(fruits2)"
   ]
  },
  {
   "cell_type": "code",
   "execution_count": 26,
   "metadata": {},
   "outputs": [],
   "source": [
    "details = {\n",
    "    'Name':'Simeon',\n",
    "    'Age':26,\n",
    "    'Gender':'Male',\n",
    "    'Weight':65,\n",
    "    'Height':1.75\n",
    "}"
   ]
  },
  {
   "cell_type": "code",
   "execution_count": 27,
   "metadata": {},
   "outputs": [
    {
     "data": {
      "text/plain": [
       "'Male'"
      ]
     },
     "execution_count": 27,
     "metadata": {},
     "output_type": "execute_result"
    }
   ],
   "source": [
    "details['Gender']"
   ]
  },
  {
   "cell_type": "code",
   "execution_count": 29,
   "metadata": {},
   "outputs": [
    {
     "data": {
      "text/plain": [
       "dict_keys(['Name', 'Age', 'Gender', 'Weight', 'Height'])"
      ]
     },
     "execution_count": 29,
     "metadata": {},
     "output_type": "execute_result"
    }
   ],
   "source": [
    "details.keys()"
   ]
  },
  {
   "cell_type": "code",
   "execution_count": 30,
   "metadata": {},
   "outputs": [
    {
     "data": {
      "text/plain": [
       "dict_values(['Simeon', 26, 'Male', 65, 1.75])"
      ]
     },
     "execution_count": 30,
     "metadata": {},
     "output_type": "execute_result"
    }
   ],
   "source": [
    "details.values()"
   ]
  },
  {
   "cell_type": "code",
   "execution_count": 31,
   "metadata": {},
   "outputs": [
    {
     "data": {
      "text/plain": [
       "dict_items([('Name', 'Simeon'), ('Age', 26), ('Gender', 'Male'), ('Weight', 65), ('Height', 1.75)])"
      ]
     },
     "execution_count": 31,
     "metadata": {},
     "output_type": "execute_result"
    }
   ],
   "source": [
    "details.items()"
   ]
  },
  {
   "cell_type": "code",
   "execution_count": 32,
   "metadata": {},
   "outputs": [
    {
     "data": {
      "text/plain": [
       "{'Name': 'Simeon', 'Age': 26, 'Gender': 'Male', 'Weight': 65, 'Height': 1.8}"
      ]
     },
     "execution_count": 32,
     "metadata": {},
     "output_type": "execute_result"
    }
   ],
   "source": [
    "r = {'Height':1.80}\n",
    "details.update(r)\n",
    "details"
   ]
  },
  {
   "cell_type": "code",
   "execution_count": 33,
   "metadata": {},
   "outputs": [
    {
     "data": {
      "text/plain": [
       "'Ojo'"
      ]
     },
     "execution_count": 33,
     "metadata": {},
     "output_type": "execute_result"
    }
   ],
   "source": [
    "records1 = {\n",
    "    'Names':['Ade','Ojo','Hope'],\n",
    "    'Age':[15,14,16]\n",
    "}\n",
    "records1['Names'][1]"
   ]
  },
  {
   "cell_type": "code",
   "execution_count": 34,
   "metadata": {},
   "outputs": [
    {
     "data": {
      "text/plain": [
       "'Ojo'"
      ]
     },
     "execution_count": 34,
     "metadata": {},
     "output_type": "execute_result"
    }
   ],
   "source": [
    "records1 = {\n",
    "    'Names':{'Name1':'Ade','Name2':'Ojo','Name3':'Hope'},\n",
    "    'Age':{'Age1':15,'Age2':14,'Age3':16}\n",
    "}\n",
    "records1['Names']['Name2']"
   ]
  },
  {
   "cell_type": "code",
   "execution_count": null,
   "metadata": {},
   "outputs": [],
   "source": []
  }
 ],
 "metadata": {
  "kernelspec": {
   "display_name": "Python 3.10.4 64-bit",
   "language": "python",
   "name": "python3"
  },
  "language_info": {
   "codemirror_mode": {
    "name": "ipython",
    "version": 3
   },
   "file_extension": ".py",
   "mimetype": "text/x-python",
   "name": "python",
   "nbconvert_exporter": "python",
   "pygments_lexer": "ipython3",
   "version": "3.10.4"
  },
  "orig_nbformat": 4,
  "vscode": {
   "interpreter": {
    "hash": "97a318a1c10ea3cad32b5f740e8bef65bce9a717407c951d39899fa160feabd9"
   }
  }
 },
 "nbformat": 4,
 "nbformat_minor": 2
}
